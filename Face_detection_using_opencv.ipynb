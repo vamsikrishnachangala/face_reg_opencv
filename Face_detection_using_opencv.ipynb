{
  "nbformat": 4,
  "nbformat_minor": 0,
  "metadata": {
    "colab": {
      "name": "Face_detection_using_opencv.ipynb",
      "provenance": []
    },
    "kernelspec": {
      "name": "python3",
      "display_name": "Python 3"
    }
  },
  "cells": [
    {
      "cell_type": "code",
      "metadata": {
        "id": "xCVz7iOOJ0UJ"
      },
      "source": [
        "import cv2\n",
        "face_cascade=cv2.CascadeClassifier('haarcascade_frontalface_default.xml')\n",
        "eye_cascade=cv2.CascadeClassifier('haarcascade_eye.xml')"
      ],
      "execution_count": 1,
      "outputs": []
    },
    {
      "cell_type": "code",
      "metadata": {
        "id": "iF2eOFRSKqyo"
      },
      "source": [
        "def detect(gray,frame):\n",
        "  faces=face_cascade.detectMultiScale(gray,1.3,5)\n",
        "  for (x,y,w,h) in faces:\n",
        "    cv2.rectangle(frame,(x,y),(x+w,y+h),(255,0,0),2)\n",
        "    roi_gray=gray[y:y+h,x:x+w]\n",
        "    roi_frame=frame[y:y+h,x:x+w]\n",
        "    eyes=eye_cascade.detectMultiscale(roi_gray,1.1,3)\n",
        "    for (ex,ey,ew,eh) in eyes:\n",
        "      cv2.rectangle(roi_frame,(ex,ey),(ex+ew,ey+eh),(0,255,0),2)\n",
        "    return frame"
      ],
      "execution_count": 2,
      "outputs": []
    },
    {
      "cell_type": "code",
      "metadata": {
        "id": "qZe2DAYcNDF1"
      },
      "source": [
        "video_capture=cv2.VideoCapture(0)\n",
        "while True:\n",
        "  _,frame=video_capture.read()\n",
        "  gray=cv2.cvtColor(frame,cv2.COLOR_BGR2GRAY)\n",
        "  canvas=detect(gray,frame)\n",
        "  cv2.imshow('Video',canvas)\n",
        "  if(cv2.waitKey(1) & 0xFF==ord('q')):\n",
        "    break\n",
        "video_capture.release()\n",
        "cv2.destroyAllWindows()"
      ],
      "execution_count": null,
      "outputs": []
    }
  ]
}